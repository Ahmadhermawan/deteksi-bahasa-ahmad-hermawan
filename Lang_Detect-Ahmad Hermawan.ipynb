{
 "cells": [
  {
   "cell_type": "code",
   "execution_count": 1,
   "id": "71f1f9f1",
   "metadata": {},
   "outputs": [],
   "source": [
    "from langdetect import detect"
   ]
  },
  {
   "cell_type": "code",
   "execution_count": 2,
   "id": "4c982dc4",
   "metadata": {},
   "outputs": [],
   "source": [
    "all_language_codes ={\n",
    "    \"en\": \"English\",\n",
    "    \"ar\": \"Arabic\",\n",
    "    \"de\": \"Deutsch\",\n",
    "    \"id\": \"Bahasa Indonesia\",\n",
    "    \"fr\": \"français\"\n",
    "\n",
    "}"
   ]
  },
  {
   "cell_type": "code",
   "execution_count": 3,
   "id": "7d52977e",
   "metadata": {},
   "outputs": [],
   "source": [
    "input_sentences = [\n",
    "    \"I'm going on vacation this month\",\n",
    "    \"انا ذاهب في اجازة هذا الشهر\",\n",
    "    \"Ich fahre diesen Monat in den Urlaub\",\n",
    "    \"Saya akan liburan bulan ini\",\n",
    "    \"je pars en vacances ce mois ci\"\n",
    "]"
   ]
  },
  {
   "cell_type": "code",
   "execution_count": 4,
   "id": "6f6a172c",
   "metadata": {},
   "outputs": [
    {
     "name": "stdout",
     "output_type": "stream",
     "text": [
      "\n",
      " Language Name           Language Code           Input Sentences          \n",
      "English                 en                      I'm going on vacation this month\n",
      "Arabic                  ar                      انا ذاهب في اجازة هذا الشهر\n",
      "Deutsch                 de                      Ich fahre diesen Monat in den Urlaub\n",
      "Bahasa Indonesia        id                      Saya akan liburan bulan ini\n",
      "français                fr                      je pars en vacances ce mois ci\n"
     ]
    }
   ],
   "source": [
    "lemmatizer_names = [\"Language Code\",\"Input Sentences\"]\n",
    "format_text = '{:24}' *(len(lemmatizer_names)+ 1)\n",
    "print (\"\\n\", format_text.format(\"Language Name\", *lemmatizer_names), '\\n' '='*0)\n",
    "for data in input_sentences:\n",
    "    language_code = detect(data)\n",
    "    sentence = [all_language_codes.get(language_code), language_code, data]\n",
    "    print (format_text.format(*sentence))"
   ]
  },
  {
   "cell_type": "code",
   "execution_count": 5,
   "id": "3b00f15d",
   "metadata": {},
   "outputs": [
    {
     "data": {
      "text/plain": [
       "'id'"
      ]
     },
     "execution_count": 5,
     "metadata": {},
     "output_type": "execute_result"
    }
   ],
   "source": [
    "detect(\"berjalan\")"
   ]
  },
  {
   "cell_type": "code",
   "execution_count": 6,
   "id": "d67d50d5",
   "metadata": {},
   "outputs": [
    {
     "data": {
      "text/plain": [
       "'en'"
      ]
     },
     "execution_count": 6,
     "metadata": {},
     "output_type": "execute_result"
    }
   ],
   "source": [
    "detect(\"How Are you\")"
   ]
  }
 ],
 "metadata": {
  "kernelspec": {
   "display_name": "Python 3 (ipykernel)",
   "language": "python",
   "name": "python3"
  },
  "language_info": {
   "codemirror_mode": {
    "name": "ipython",
    "version": 3
   },
   "file_extension": ".py",
   "mimetype": "text/x-python",
   "name": "python",
   "nbconvert_exporter": "python",
   "pygments_lexer": "ipython3",
   "version": "3.9.7"
  }
 },
 "nbformat": 4,
 "nbformat_minor": 5
}
